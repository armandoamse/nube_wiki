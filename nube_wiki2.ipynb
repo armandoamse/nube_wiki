def crear_nube (x) :
wikipedia.set_lang("es") 
wiki = wikipedia.page(x)
text = wiki.content
text = re.sub(r'==.*?==+', '', text) # eliminamos los headers
text = text.replace('\n', '') # eliminamos los saltos de línea
wordcloud = WordCloud(width = 3000, height = 2000, random_state=1,
background_color='white',colormap='viridis', 
collocations=False, stopwords = stop_words + 
[x]).generate(text)
nube = plot_cloud(wordcloud)
return(nube)