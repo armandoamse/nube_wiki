crear_nube(“getafe")
crear_nube(“Toledo")