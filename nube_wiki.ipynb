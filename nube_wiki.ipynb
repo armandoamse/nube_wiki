import wikipedia
import re
from stop_words import get_stop_words



stop_words = get_stop_words('es’)
len(stop_words)
print(wikipedia.languages())
#fijamos el idioma a español
wikipedia.set_lang("es") 
print(wikipedia.search("Python"))
print(wikipedia.search("Python", results = 3))
print(wikipedia.suggest("Madriz"))

# Que página queremos descargar
wiki = wikipedia.page('Python’)
# Sacamos el texto de la página
text = wiki.content
# Sacamos el texto de la página
text = wiki.content
# Clean text
text = re.sub(r'==.*?==+', '', text) # eliminamos los headers
text = text.replace('\n', '') # eliminamos los saltos de línea

import matplotlib.pyplot as plt
%matplotlib inline
# Creamos una función para generar el gráfico
def plot_cloud(wordcloud):
# fijamos el tamaño
plt.figure(figsize=(40, 30))
# plot de la imagen
plt.imshow(wordcloud) 
# sin ejes
plt.axis("off");
